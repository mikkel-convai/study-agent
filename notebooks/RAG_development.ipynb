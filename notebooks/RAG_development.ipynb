{
 "cells": [
  {
   "cell_type": "markdown",
   "metadata": {},
   "source": [
    "# Setup"
   ]
  },
  {
   "cell_type": "code",
   "execution_count": 14,
   "metadata": {},
   "outputs": [
    {
     "data": {
      "text/plain": [
       "True"
      ]
     },
     "execution_count": 14,
     "metadata": {},
     "output_type": "execute_result"
    }
   ],
   "source": [
    "from dotenv import load_dotenv\n",
    "load_dotenv()"
   ]
  },
  {
   "cell_type": "markdown",
   "metadata": {},
   "source": [
    "## LLM and Embedding"
   ]
  },
  {
   "cell_type": "code",
   "execution_count": 2,
   "metadata": {},
   "outputs": [],
   "source": [
    "import os\n",
    "from langchain_openai import AzureChatOpenAI, AzureOpenAIEmbeddings\n",
    "\n",
    "# TODO: Add Ollama alternative\n",
    "\n",
    "############### Init LLM ###############\n",
    "llm = AzureChatOpenAI(\n",
    "    api_key=os.getenv(\"AZURE_OPENAI_API_KEY\"),\n",
    "    azure_endpoint=os.getenv(\"AZURE_OPENAI_ENDPOINT\"),\n",
    "    azure_deployment=os.getenv(\"AZURE_OPENAI_DEPLOYMENT_NAME\"),\n",
    "    openai_api_version=os.getenv(\"AZURE_OPENAI_API_VERSION\"),\n",
    ")\n",
    "\n",
    "############### Init embeddings ###############\n",
    "embeddings = AzureOpenAIEmbeddings(model=os.getenv(\"AZURE_OPENAI_EMB_DEPLOYMENT_NAME\"))"
   ]
  },
  {
   "cell_type": "markdown",
   "metadata": {},
   "source": [
    "# Persistent database"
   ]
  },
  {
   "cell_type": "code",
   "execution_count": 3,
   "metadata": {},
   "outputs": [],
   "source": [
    "import sqlite3\n",
    "chat_db_path = \"db/chats/example.db\"\n",
    "student_db_path = \"db/students/students.db\"\n",
    "\n",
    "conn = sqlite3.connect(chat_db_path, check_same_thread=False)"
   ]
  },
  {
   "cell_type": "code",
   "execution_count": 4,
   "metadata": {},
   "outputs": [],
   "source": [
    "from langgraph.checkpoint.sqlite import SqliteSaver\n",
    "persistent_memory = SqliteSaver(conn)"
   ]
  },
  {
   "cell_type": "markdown",
   "metadata": {},
   "source": [
    "## State"
   ]
  },
  {
   "cell_type": "code",
   "execution_count": 5,
   "metadata": {},
   "outputs": [],
   "source": [
    "from typing import Optional, List\n",
    "from pydantic import BaseModel, Field\n",
    "from langgraph.graph import MessagesState\n",
    "\n",
    "# Student class\n",
    "class Student(BaseModel):\n",
    "    ''' Class for agent to fill out, which fits with SQL table '''\n",
    "    \n",
    "    username: str = Field(description='The username for the student, which is a unique identifier')\n",
    "    name: Optional[str] = Field(None, description='Name of student')\n",
    "    summary: Optional[str] = Field(None, description='A summary of the students profile, based on available fields')\n",
    "    @property\n",
    "    def persona(self) -> str:\n",
    "        return f\"Username:\\n {self.username}\\n Name:\\n {self.name}\\nSummary\\n {self.summary}\"\n",
    "\n",
    "# Graph state\n",
    "class StudyAgentState(MessagesState):\n",
    "    username: str\n",
    "    student: Optional[Student]\n",
    "    max_messages: int\n",
    "    session_docs: List[str]\n",
    "    documents: List[str]"
   ]
  },
  {
   "cell_type": "markdown",
   "metadata": {},
   "source": [
    "# Teacher"
   ]
  },
  {
   "cell_type": "code",
   "execution_count": 6,
   "metadata": {},
   "outputs": [],
   "source": [
    "from langchain_core.messages import SystemMessage, HumanMessage\n",
    "\n",
    "teacher_instructions = \"\"\"\n",
    "    You are an experienced and patient teacher helping students learn \n",
    "    by answering their questions. Your goal is to not only provide \n",
    "    the correct answers but also to explain concepts clearly and thoroughly, \n",
    "    breaking them down into smaller steps when necessary. Provide \n",
    "    examples where appropriate, encourage critical thinking by asking \n",
    "    follow-up questions, and make sure the student feels supported in \n",
    "    their learning journey. Aim to foster a deeper understanding \n",
    "    rather than just memorization. If the student seems confused, \n",
    "    gently guide them through the problem with hints or re-explanations.\n",
    "\n",
    "    You should take the following documents into consideration\n",
    "    and cite them if used:\n",
    "    {documents}\n",
    "    \"\"\"\n",
    "\n",
    "def answering_teacher(state: StudyAgentState):\n",
    "    ''' Teacher node to answer student '''\n",
    "    print('--- Teacher ---')\n",
    "    messages = state['messages'] # Contains student question\n",
    "    documents = state['documents']\n",
    "    sys_msg = teacher_instructions.format(documents=documents)\n",
    "    answer = llm.invoke([SystemMessage(content=sys_msg)] + messages) # Answers student question\n",
    "\n",
    "    return {'messages': answer} # Adds answer to messages"
   ]
  },
  {
   "cell_type": "markdown",
   "metadata": {},
   "source": [
    "# Vector DB"
   ]
  },
  {
   "cell_type": "markdown",
   "metadata": {},
   "source": [
    "## Upserting"
   ]
  },
  {
   "cell_type": "code",
   "execution_count": 7,
   "metadata": {},
   "outputs": [
    {
     "name": "stdout",
     "output_type": "stream",
     "text": [
      "Vector store already exists. No need to initialize.\n"
     ]
    }
   ],
   "source": [
    "from langchain.text_splitter import RecursiveCharacterTextSplitter\n",
    "from langchain_community.document_loaders import PyPDFLoader\n",
    "from langchain_openai import AzureOpenAIEmbeddings\n",
    "from langchain_chroma import Chroma\n",
    "\n",
    "# Define the directory containing the text file and the persistent directory\n",
    "current_dir = os.path.dirname(os.path.abspath(\"study_agent_langgraph.ipynb\"))\n",
    "db_dir = os.path.join(current_dir, \"db\")\n",
    "persistent_directory = os.path.join(db_dir, \"test_material\")\n",
    "\n",
    "# Function to create and persist vector store\n",
    "def create_vector_store(docs, embeddings, store_name):\n",
    "    persistent_directory = os.path.join(db_dir, store_name)\n",
    "    if not os.path.exists(persistent_directory):\n",
    "        print(f\"\\n--- Creating vector store {store_name} ---\")\n",
    "        Chroma.from_documents(\n",
    "            docs, embeddings, persist_directory=persistent_directory)\n",
    "        print(f\"--- Finished creating vector store {store_name} ---\")\n",
    "    else:\n",
    "        print(\n",
    "            f\"Vector store {store_name} already exists. No need to initialize.\")\n",
    "\n",
    "file_dir = os.path.join('./', \"data\", 'test_data')\n",
    "\n",
    "# Check if the Chroma vector store already exists\n",
    "if not os.path.exists(persistent_directory):\n",
    "    print(\"Persistent directory does not exist. Initializing vector store...\")\n",
    "\n",
    "    # Ensure the books directory exists\n",
    "    if not os.path.exists(file_dir):\n",
    "        raise FileNotFoundError(\n",
    "            f\"The directory {file_dir} does not exist. Please check the path.\"\n",
    "        )\n",
    "\n",
    "    # List all text files in the directory\n",
    "    pdf_files = [f for f in os.listdir(file_dir) if f.endswith(\".pdf\")]\n",
    "\n",
    "    # Read the text content from each file and store it with metadata\n",
    "    documents = []\n",
    "    for pdf_file in pdf_files:\n",
    "        file_path = os.path.join(file_dir, pdf_file)\n",
    "        loader = PyPDFLoader(file_path)\n",
    "        pdf_docs = loader.load()\n",
    "        for doc in pdf_docs:\n",
    "            # Add metadata to each document indicating its source\n",
    "            doc.metadata = {\"source\": pdf_file}\n",
    "            documents.append(doc)\n",
    "\n",
    "    # Split the documents into chunks\n",
    "    text_splitter = RecursiveCharacterTextSplitter(chunk_size=1000, chunk_overlap=0)\n",
    "    docs = text_splitter.split_documents(documents)\n",
    "\n",
    "    # Display information about the split documents\n",
    "    print(\"\\n--- Document Chunks Information ---\")\n",
    "    print(f\"Number of document chunks: {len(docs)}\")\n",
    "\n",
    "    # Create embeddings\n",
    "    print(\"\\n--- Creating embeddings ---\")\n",
    "    embeddings = AzureOpenAIEmbeddings(model=os.getenv(\"AZURE_OPENAI_EMB_DEPLOYMENT_NAME\"))\n",
    "    print(\"\\n--- Finished creating embeddings ---\")\n",
    "\n",
    "    # Create the vector store and persist it\n",
    "    print(\"\\n--- Creating and persisting vector store ---\")\n",
    "    db = Chroma.from_documents(\n",
    "        docs, embeddings, persist_directory=persistent_directory)\n",
    "    print(\"\\n--- Finished creating and persisting vector store ---\")\n",
    "\n",
    "else:\n",
    "    print(\"Vector store already exists. No need to initialize.\")\n"
   ]
  },
  {
   "cell_type": "markdown",
   "metadata": {},
   "source": [
    "## Retrievers"
   ]
  },
  {
   "cell_type": "code",
   "execution_count": 8,
   "metadata": {},
   "outputs": [],
   "source": [
    "from langchain_chroma import Chroma\n",
    "from langchain.vectorstores import DocArrayInMemorySearch\n",
    "\n",
    "def retrieve_docs_chroma(state: StudyAgentState):\n",
    "    ''' Retriever for getting context and docs '''\n",
    "    print('--- Chroma Retriever ---')\n",
    "    query = state[\"messages\"][-1].content\n",
    "    \n",
    "    embeddings = AzureOpenAIEmbeddings(model=os.getenv(\"AZURE_OPENAI_EMB_DEPLOYMENT_NAME\"))\n",
    "    current_dir = os.path.dirname(os.path.abspath(\"development.ipynb\"))\n",
    "    db_dir = os.path.join(current_dir, \"db\")\n",
    "    persistent_directory = os.path.join(db_dir, \"test_material\")\n",
    "    db = Chroma(\n",
    "        persist_directory=persistent_directory,\n",
    "        embedding_function=embeddings\n",
    "    )\n",
    "    retriever = db.as_retriever()\n",
    "    docs = retriever.invoke(query)\n",
    "\n",
    "    return {'documents': docs}\n",
    "\n",
    "def retrieve_docs_inmemory(state: StudyAgentState):\n",
    "    ''' Retriever for getting context and docs '''\n",
    "    print('--- InMemory Retriever ---')\n",
    "    query = state[\"messages\"][-1].content\n",
    "    documents = state[\"session_docs\"]\n",
    "    embeddings = AzureOpenAIEmbeddings(model=os.getenv(\"AZURE_OPENAI_EMB_DEPLOYMENT_NAME\"))\n",
    "    retriever = DocArrayInMemorySearch.from_documents(documents, embeddings)\n",
    "\n",
    "    docs = retriever.similarity_search(query, k=3)\n",
    "\n",
    "    return {'documents': docs}"
   ]
  },
  {
   "cell_type": "markdown",
   "metadata": {},
   "source": [
    "# Document Grader"
   ]
  },
  {
   "cell_type": "code",
   "execution_count": 9,
   "metadata": {},
   "outputs": [],
   "source": [
    "# First is the retrieval grader, which takes a documents content and evaluates whether it is useful or not\n",
    "# The grader is a simple chain, with a prompt and an llm\n",
    "# It is later used in a node, to go through retrieved documents\n",
    "from pydantic import BaseModel, Field\n",
    "from langchain_core.prompts import ChatPromptTemplate\n",
    "\n",
    "# Structured output class - Either useful or useless\n",
    "class DocumentGrade(BaseModel):\n",
    "    document_grade: str = Field(description=\"Grading of retrieved document, 'useful' or 'useless'\")\n",
    "\n",
    "# Prompt template for the llm to evaluate documents\n",
    "grader_instruction = \"\"\"\n",
    "You are tasked with determining whether a document is relevant to a student's inquiry.\n",
    "Evaluate the document based on its ability to directly address or provide useful information regarding the question or topic posed by the student.\n",
    "If the document is relevant and contains valuable information, respond with 'useful'.\n",
    "If the document is unrelated or does not contribute meaningfully to the inquiry, respond with 'useless'.\n",
    "Be objective and concise in your evaluation.\n",
    "\"\"\"\n",
    "grader_prompt = ChatPromptTemplate.from_messages(\n",
    "    [\n",
    "        (\"system\", grader_instruction),\n",
    "        (\"human\", \"Retrieved document: \\n\\n {document} \\n\\n User question: {question}\"),\n",
    "    ]\n",
    ")\n",
    "\n",
    "# LLM with class as output, string of either useful or useless\n",
    "grader_llm = llm.with_structured_output(DocumentGrade)\n",
    "\n",
    "# Grader chain\n",
    "doc_grader = grader_prompt | grader_llm"
   ]
  },
  {
   "cell_type": "code",
   "execution_count": 10,
   "metadata": {},
   "outputs": [],
   "source": [
    "def grade_docs(state: StudyAgentState):\n",
    "    ''' Grader to filter retrieved documents by relevance '''\n",
    "    print('--- Doc Grader ---')\n",
    "    question = state['messages'][-1].content\n",
    "    documents = state['documents']\n",
    "    filtered_docs = []\n",
    "    \n",
    "    for doc in documents:\n",
    "        usefulness = doc_grader.invoke({'document': doc, 'question': question})\n",
    "        if usefulness.document_grade == 'useful':\n",
    "            filtered_docs.append(doc)\n",
    "        elif usefulness.document_grade == 'useless':\n",
    "            continue\n",
    "\n",
    "    return {'documents': filtered_docs}"
   ]
  },
  {
   "cell_type": "markdown",
   "metadata": {},
   "source": [
    "# Edges"
   ]
  },
  {
   "cell_type": "code",
   "execution_count": 11,
   "metadata": {},
   "outputs": [],
   "source": [
    "def retriever_route(state: StudyAgentState):\n",
    "    ''' Deciding which retriever to use based on session documents '''\n",
    "\n",
    "    session_docs = state.get('session_docs', [])\n",
    "\n",
    "    if len(session_docs) == 0:\n",
    "        return 'chroma_retriever'\n",
    "    else:\n",
    "        return 'inmemory_retriever'"
   ]
  },
  {
   "cell_type": "code",
   "execution_count": 12,
   "metadata": {},
   "outputs": [],
   "source": [
    "def got_docs(state: StudyAgentState):\n",
    "    ''' Check if there are relevant documents for the teachers answer '''\n",
    "    # TODO: Add a max_turns to state and/or a web search or other deafult\n",
    "\n",
    "    relevant_docs = state.get('documents', [])\n",
    "\n",
    "    if len(relevant_docs) == 0:\n",
    "        return 'chroma_retriever'\n",
    "    else:\n",
    "        return 'teacher'"
   ]
  },
  {
   "cell_type": "markdown",
   "metadata": {},
   "source": [
    "# Graph"
   ]
  },
  {
   "cell_type": "code",
   "execution_count": 13,
   "metadata": {},
   "outputs": [
    {
     "data": {
      "image/jpeg": "[encoded data removed]",
      "text/plain": [
       "<IPython.core.display.Image object>"
      ]
     },
     "metadata": {},
     "output_type": "display_data"
    }
   ],
   "source": [
    "from IPython.display import Image, display\n",
    "from langgraph.graph import StateGraph, START, END\n",
    "from langgraph.checkpoint.memory import MemorySaver\n",
    "\n",
    "studyagent_workflow = StateGraph(StudyAgentState)\n",
    "\n",
    "studyagent_workflow.add_node('chroma_retriever', retrieve_docs_chroma)\n",
    "studyagent_workflow.add_node('inmemory_retriever', retrieve_docs_inmemory)\n",
    "studyagent_workflow.add_node('grader', grade_docs)\n",
    "studyagent_workflow.add_node('teacher', answering_teacher)\n",
    "\n",
    "studyagent_workflow.add_conditional_edges(START, retriever_route, ['inmemory_retriever', 'chroma_retriever'])\n",
    "studyagent_workflow.add_edge('inmemory_retriever', 'grader')\n",
    "studyagent_workflow.add_edge('chroma_retriever', 'grader')\n",
    "studyagent_workflow.add_conditional_edges('grader', got_docs, ['chroma_retriever', 'teacher'])\n",
    "studyagent_workflow.add_edge('teacher', END)\n",
    "\n",
    "memory = MemorySaver()\n",
    "studyagent_graph = studyagent_workflow.compile(checkpointer=persistent_memory)\n",
    "\n",
    "display(Image(studyagent_graph.get_graph().draw_mermaid_png()))"
   ]
  },
  {
   "cell_type": "markdown",
   "metadata": {},
   "source": [
    "# Test graph"
   ]
  },
  {
   "cell_type": "code",
   "execution_count": 24,
   "metadata": {},
   "outputs": [
    {
     "name": "stdout",
     "output_type": "stream",
     "text": [
      "--- InMemory Retriever ---\n",
      "--- Doc Grader ---\n",
      "--- Teacher ---\n"
     ]
    }
   ],
   "source": [
    "from langchain_community.document_loaders import TextLoader\n",
    "\n",
    "uploaded_file = 'data/test_data/Employee handbook.txt'\n",
    "# uploaded_file = 'langgraph/Sound_detection_blog.pdf'\n",
    "loader = TextLoader(uploaded_file)\n",
    "# loader = PyMuPDFLoader(uploaded_file)\n",
    "session_docs = loader.load() #[]\n",
    "\n",
    "student_q = 'Hi, Im Alex. What is the company dress code?'\n",
    "config = {'configurable': {'thread_id': 'Employee2'}}\n",
    "\n",
    "answer_state = studyagent_graph.invoke({'messages': [HumanMessage(content=student_q)], 'session_docs': session_docs}, config)"
   ]
  },
  {
   "cell_type": "code",
   "execution_count": 25,
   "metadata": {},
   "outputs": [
    {
     "data": {
      "text/markdown": [
       "Hello Alex, according to the Employee Handbook, the dress code of the company requires employees to maintain a strict professional dress code, consisting of baggy clothes in the colors orange and blue. You are expected to dress appropriately for your role and responsibilities."
      ],
      "text/plain": [
       "<IPython.core.display.Markdown object>"
      ]
     },
     "execution_count": 25,
     "metadata": {},
     "output_type": "execute_result"
    }
   ],
   "source": [
    "from IPython.display import Markdown\n",
    "\n",
    "Markdown(answer_state['messages'][-1].content)"
   ]
  }
 ],
 "metadata": {
  "kernelspec": {
   "display_name": ".venv",
   "language": "python",
   "name": "python3"
  },
  "language_info": {
   "codemirror_mode": {
    "name": "ipython",
    "version": 3
   },
   "file_extension": ".py",
   "mimetype": "text/x-python",
   "name": "python",
   "nbconvert_exporter": "python",
   "pygments_lexer": "ipython3",
   "version": "3.12.0"
  }
 },
 "nbformat": 4,
 "nbformat_minor": 2
}
