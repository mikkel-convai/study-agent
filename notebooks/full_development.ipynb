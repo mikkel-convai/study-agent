{
 "cells": [
  {
   "cell_type": "markdown",
   "metadata": {},
   "source": [
    "# Setup"
   ]
  },
  {
   "cell_type": "code",
   "execution_count": 224,
   "metadata": {},
   "outputs": [],
   "source": [
    "# %pip install -q -r requirements.txt"
   ]
  },
  {
   "cell_type": "code",
   "execution_count": 225,
   "metadata": {},
   "outputs": [
    {
     "data": {
      "text/plain": [
       "True"
      ]
     },
     "execution_count": 225,
     "metadata": {},
     "output_type": "execute_result"
    }
   ],
   "source": [
    "from dotenv import load_dotenv\n",
    "load_dotenv()"
   ]
  },
  {
   "cell_type": "markdown",
   "metadata": {},
   "source": [
    "## LLM and Embedding"
   ]
  },
  {
   "cell_type": "code",
   "execution_count": 226,
   "metadata": {},
   "outputs": [],
   "source": [
    "import os\n",
    "from langchain_openai import AzureChatOpenAI, AzureOpenAIEmbeddings\n",
    "\n",
    "# TODO: Add Ollama alternative\n",
    "\n",
    "############### Init LLM ###############\n",
    "llm = AzureChatOpenAI(\n",
    "    api_key=os.getenv(\"AZURE_OPENAI_API_KEY\"),\n",
    "    azure_endpoint=os.getenv(\"AZURE_OPENAI_ENDPOINT\"),\n",
    "    azure_deployment=os.getenv(\"AZURE_OPENAI_DEPLOYMENT_NAME\"),\n",
    "    openai_api_version=os.getenv(\"AZURE_OPENAI_API_VERSION\"),\n",
    ")\n",
    "\n",
    "############### Init embeddings ###############\n",
    "embeddings = AzureOpenAIEmbeddings(model=os.getenv(\"AZURE_OPENAI_EMB_DEPLOYMENT_NAME\"))"
   ]
  },
  {
   "cell_type": "markdown",
   "metadata": {},
   "source": [
    "# Persistent database"
   ]
  },
  {
   "cell_type": "code",
   "execution_count": 227,
   "metadata": {},
   "outputs": [],
   "source": [
    "import sqlite3\n",
    "chat_db_path = \"db/chats/example.db\"\n",
    "student_db_path = \"db/students/students.db\"\n",
    "\n",
    "conn = sqlite3.connect(chat_db_path, check_same_thread=False)"
   ]
  },
  {
   "cell_type": "code",
   "execution_count": 228,
   "metadata": {},
   "outputs": [],
   "source": [
    "from langgraph.checkpoint.sqlite import SqliteSaver\n",
    "persistent_memory = SqliteSaver(conn)"
   ]
  },
  {
   "cell_type": "markdown",
   "metadata": {},
   "source": [
    "## State"
   ]
  },
  {
   "cell_type": "code",
   "execution_count": 229,
   "metadata": {},
   "outputs": [],
   "source": [
    "from typing import Optional, List, Annotated\n",
    "from pydantic import BaseModel, Field\n",
    "from langgraph.graph import MessagesState\n",
    "import operator\n",
    "\n",
    "# Student class\n",
    "class Student(BaseModel):\n",
    "    ''' Class for agent to fill out, which fits with SQL table '''\n",
    "    \n",
    "    username: str = Field(description='The username for the student, which is a unique identifier')\n",
    "    name: Optional[str] = Field(None, description='Name of student')\n",
    "    summary: Optional[str] = Field(None, description='A summary of the students profile, based on available fields')\n",
    "    @property\n",
    "    def persona(self) -> str:\n",
    "        return f\"Username:\\n {self.username}\\n Name:\\n {self.name}\\nSummary\\n {self.summary}\"\n",
    "\n",
    "# Graph state\n",
    "class StudyAgentState(MessagesState):\n",
    "    username: str\n",
    "    student: Optional[Student]\n",
    "    new_profiling_info: str\n",
    "    session_docs: List[str]\n",
    "    documents: Annotated[List[str], operator.add]"
   ]
  },
  {
   "cell_type": "markdown",
   "metadata": {},
   "source": [
    "# Student"
   ]
  },
  {
   "cell_type": "markdown",
   "metadata": {},
   "source": [
    "## Load"
   ]
  },
  {
   "cell_type": "code",
   "execution_count": 230,
   "metadata": {},
   "outputs": [],
   "source": [
    "def fetch_student_profile(username: str) -> Student:\n",
    "    ''' Retrieve student profile if existing '''\n",
    "    \n",
    "    # Connect to the SQLite database (adjust the path to your database file)\n",
    "    connection = sqlite3.connect(student_db_path)\n",
    "    cursor = connection.cursor()\n",
    "\n",
    "    # Execute the query to search for the student by username\n",
    "    cursor.execute('SELECT * FROM students WHERE username = ?', (username,))\n",
    "\n",
    "    # Fetch the result\n",
    "    student_data = cursor.fetchone()\n",
    "\n",
    "    # Close the connection\n",
    "    cursor.close()\n",
    "    connection.close()\n",
    "\n",
    "    # If a student is found, return a Student object, otherwise return None\n",
    "    if student_data:\n",
    "        _, username, name, summary = student_data\n",
    "        return Student(username=username, name=name, summary=summary)\n",
    "    else:\n",
    "        return Student(username=username)\n",
    "    \n",
    "def load_student(state: StudyAgentState) -> StudyAgentState:\n",
    "    ''' Loading user from SQL based on username, if it exists '''\n",
    "    print('--- Loading Student ---')\n",
    "    username = state['username']\n",
    "    student = fetch_student_profile(username)\n",
    "    \n",
    "    return {'student': student}"
   ]
  },
  {
   "cell_type": "markdown",
   "metadata": {},
   "source": [
    "## Update"
   ]
  },
  {
   "cell_type": "code",
   "execution_count": 231,
   "metadata": {},
   "outputs": [],
   "source": [
    "from langchain_core.messages import SystemMessage, HumanMessage, AIMessage, RemoveMessage\n",
    "\n",
    "# SQL function for updating db\n",
    "def update_db(student: Student) -> None:\n",
    "    ''' Update student profile if existing '''\n",
    "    print('--- Updating DB ---')\n",
    "    # Connect to the SQLite database (adjust the path to your database file)\n",
    "    connection = sqlite3.connect(student_db_path)\n",
    "    cursor = connection.cursor()\n",
    "\n",
    "    # Execute the query to upsert the student\n",
    "    cursor.execute(\n",
    "        '''\n",
    "        INSERT INTO students (username, name, summary)\n",
    "        VALUES (:username, :name, :summary)\n",
    "        ON CONFLICT(username) \n",
    "        DO UPDATE SET \n",
    "            name = excluded.name,\n",
    "            summary = excluded.summary;\n",
    "        ''', \n",
    "        {\n",
    "            'username': student.username,\n",
    "            'name': student.name,\n",
    "            'summary': student.summary\n",
    "        }\n",
    "    )\n",
    "\n",
    "    # Commit the transaction to save the changes\n",
    "    connection.commit()\n",
    "\n",
    "    # Close the connection\n",
    "    cursor.close()\n",
    "    connection.close()\n",
    "\n",
    "    print('DB updated')\n",
    "\n",
    "\n",
    "# Node for updating student profile and db\n",
    "update_student_prompt = ''' \n",
    "You are tasked with updating the profile of the following student. The student's current profile will be provided below. Review the profile and update any missing or incomplete fields, including the student's name and summary.\n",
    "\n",
    "- If the student's name is missing or incorrect, suggest an appropriate name or confirm the correct name if possible.\n",
    "- If the summary is incomplete, add relevant details to provide a more complete profile of the student's academic background or learning habits.\n",
    "- Do not modify the username, as it is a unique identifier.\n",
    "\n",
    "Here is the student's current profile:\n",
    "Username: {student_username}\n",
    "Name: {student_name}\n",
    "Summary: {student_summary}\n",
    "\n",
    "Here is what was extracted from the agent:\n",
    "{extracted_info}\n",
    "\n",
    "Please provide the updated profile with all relevant fields filled in. If a field is already complete, leave it unchanged.\n",
    "'''\n",
    "\n",
    "def update_student_profile(state: StudyAgentState):\n",
    "    \"\"\" Node for updating the student profile \"\"\"\n",
    "    print('--- Updating student ---')\n",
    "    student = state['student']\n",
    "    messages = state['messages']\n",
    "    last_message = messages[-1]\n",
    "\n",
    "    # Check if <student_profiling> tag exists in the last message content\n",
    "    if \"student_profiling>\" in last_message.content:\n",
    "        clean_message = last_message.content.split(\"<student_profiling>\")[0] + last_message.content.split(\"</student_profiling>\")[1].strip()\n",
    "    else:\n",
    "        clean_message = last_message.content\n",
    "\n",
    "    extracted_info = last_message.content.split(\"student_profiling>\")[1].split(\"</\")[0].strip()\n",
    "\n",
    "    formatted_prompt = update_student_prompt.format(\n",
    "        student_username=student.username,\n",
    "        student_name=student.name if student.name else \"Not Provided\",\n",
    "        student_summary=student.summary if student.summary else \"Not Provided\",\n",
    "        extracted_info=extracted_info\n",
    "    )\n",
    "\n",
    "    structured_llm = llm.with_structured_output(Student)\n",
    "    updated_student = structured_llm.invoke(\n",
    "        [SystemMessage(content=formatted_prompt)] + \n",
    "        [HumanMessage(content=f'Student to update: \\n {student.persona}')] +\n",
    "        messages\n",
    "    )\n",
    "\n",
    "    print(f'Student before: \\n {student}')\n",
    "    print(f'Updated student: \\n {updated_student}')\n",
    "    \n",
    "    update_done_msg = AIMessage(clean_message)\n",
    "    \n",
    "    update_db(updated_student)\n",
    "\n",
    "    print(f'Message: \\n {clean_message}')\n",
    "    print('--- END ---')\n",
    "    return {'student': updated_student, 'messages': [RemoveMessage(id=last_message.id)] + [update_done_msg]}"
   ]
  },
  {
   "cell_type": "markdown",
   "metadata": {},
   "source": [
    "# Extract student info"
   ]
  },
  {
   "cell_type": "code",
   "execution_count": 232,
   "metadata": {},
   "outputs": [],
   "source": [
    "profiling_prompt = '''\n",
    "You are an intelligent student profiling assistant responsible for analyzing student queries to determine if new \n",
    "information is available for updating the student profile. Your task is not to respond directly to the user \n",
    "but to route the query based on whether new student data is present.\n",
    "\n",
    "Information you should look for includes:\n",
    "\n",
    "    Name\n",
    "    Topic or subject being studied\n",
    "    Academic profile (e.g., courses, level of study)\n",
    "    Learning goals (e.g., objectives or future targets)\n",
    "    Preferences (e.g., study methods, preferred learning materials)\n",
    "\n",
    "If the query provides new student data, return: <student_profiling>[extracted information]</student_profiling>\n",
    "\n",
    "If there is no new data to update, return: No new user data\n",
    "\n",
    "This node does not interact with the user directly but ensures that any new student information is properly \n",
    "flagged for future updates.\n",
    "\n",
    "Here is what we know about the student so far:\n",
    "{student_persona}\n",
    "'''\n",
    "\n",
    "# This node sets the new_profiling_info state\n",
    "# It could be changed into a route, if it didn't have to set stage\n",
    "def extract_profiling_info(state: StudyAgentState):\n",
    "    ''' Node/Route for whether to update student profile or not '''\n",
    "    print('--- Extract student info ---')\n",
    "    student = state['student']\n",
    "    latest_message = state['messages'][-1]\n",
    "\n",
    "    formatted_prompt = profiling_prompt.format(student_persona = student.persona)\n",
    "    route = llm.invoke([SystemMessage(content=formatted_prompt)] + [latest_message])\n",
    "\n",
    "    if '<student_profiling>' in route.content:\n",
    "        print('Updated new profiling info in state')\n",
    "        return {'new_profiling_info': route.content}\n",
    "    else:\n",
    "        print('No further profiling data')"
   ]
  },
  {
   "cell_type": "markdown",
   "metadata": {},
   "source": [
    "# Update student profile"
   ]
  },
  {
   "cell_type": "code",
   "execution_count": 233,
   "metadata": {},
   "outputs": [],
   "source": [
    "def update_db(student: Student) -> None:\n",
    "    ''' Update student profile if existing '''\n",
    "    print('--- Updating DB ---')\n",
    "    # Connect to the SQLite database (adjust the path to your database file)\n",
    "    connection = sqlite3.connect(student_db_path)\n",
    "    cursor = connection.cursor()\n",
    "\n",
    "    # Execute the query to upsert the student\n",
    "    cursor.execute(\n",
    "        '''\n",
    "        INSERT INTO students (username, name, summary)\n",
    "        VALUES (:username, :name, :summary)\n",
    "        ON CONFLICT(username) \n",
    "        DO UPDATE SET \n",
    "            name = excluded.name,\n",
    "            summary = excluded.summary;\n",
    "        ''', \n",
    "        {\n",
    "            'username': student.username,\n",
    "            'name': student.name,\n",
    "            'summary': student.summary\n",
    "        }\n",
    "    )\n",
    "\n",
    "    # Commit the transaction to save the changes\n",
    "    connection.commit()\n",
    "\n",
    "    # Close the connection\n",
    "    cursor.close()\n",
    "    connection.close()\n",
    "\n",
    "    print('DB updated')"
   ]
  },
  {
   "cell_type": "code",
   "execution_count": 234,
   "metadata": {},
   "outputs": [],
   "source": [
    "update_student_prompt = ''' \n",
    "You are tasked with updating the profile of the following student. The student's current profile will be provided below. Review the profile and update any missing or incomplete fields, including the student's name and summary.\n",
    "\n",
    "- If the student's name is missing or incorrect, suggest an appropriate name or confirm the correct name if possible.\n",
    "- If the summary is incomplete, add relevant details to provide a more complete profile of the student's academic background or learning habits.\n",
    "- Do not modify the username, as it is a unique identifier.\n",
    "\n",
    "Here is the student's current profile:\n",
    "Username: {student_username}\n",
    "Name: {student_name}\n",
    "Summary: {student_summary}\n",
    "\n",
    "Here is what was extracted from the agent:\n",
    "{extracted_info}\n",
    "\n",
    "Please provide the updated profile with all relevant fields filled in. If a field is already complete, leave it unchanged.\n",
    "'''\n",
    "\n",
    "def update_profile(state: StudyAgentState):\n",
    "    \"\"\" Node for updating the student profile \"\"\"\n",
    "    print('--- Updating student ---')\n",
    "    student = state['student']\n",
    "    messages = state['messages']\n",
    "    extracted_info = state['new_profiling_info']\n",
    "\n",
    "    formatted_prompt = update_student_prompt.format(\n",
    "        student_username=student.username,\n",
    "        student_name=student.name if student.name else \"Not Provided\",\n",
    "        student_summary=student.summary if student.summary else \"Not Provided\",\n",
    "        extracted_info=extracted_info\n",
    "    )\n",
    "\n",
    "    structured_llm = llm.with_structured_output(Student)\n",
    "    updated_student = structured_llm.invoke(\n",
    "        [SystemMessage(content=formatted_prompt)] + \n",
    "        [HumanMessage(content=f'Student to update: \\n {student.persona}')] +\n",
    "        messages\n",
    "    )\n",
    "\n",
    "    print(f'Student before: \\n {student}')\n",
    "    print(f'Updated student: \\n {updated_student}')\n",
    "    \n",
    "    update_db(updated_student)\n",
    "\n",
    "    return {'student': updated_student, 'new_profiling_info': ''}"
   ]
  },
  {
   "cell_type": "markdown",
   "metadata": {},
   "source": [
    "# Retrievers"
   ]
  },
  {
   "cell_type": "code",
   "execution_count": 235,
   "metadata": {},
   "outputs": [],
   "source": [
    "def dummy_retriever(state: StudyAgentState):\n",
    "    ''' Node before deciding which retriever to use'''\n",
    "    pass"
   ]
  },
  {
   "cell_type": "code",
   "execution_count": 236,
   "metadata": {},
   "outputs": [],
   "source": [
    "from langchain_chroma import Chroma\n",
    "from langchain.vectorstores import DocArrayInMemorySearch\n",
    "\n",
    "def retrieve_docs_chroma(state: StudyAgentState):\n",
    "    ''' Retriever for getting context and docs '''\n",
    "    print('--- Chroma Retriever ---')\n",
    "    query = state[\"messages\"][-1].content\n",
    "    \n",
    "    embeddings = AzureOpenAIEmbeddings(model=os.getenv(\"AZURE_OPENAI_EMB_DEPLOYMENT_NAME\"))\n",
    "    current_dir = os.path.dirname(os.path.abspath(\"full_development.ipynb\"))\n",
    "    db_dir = os.path.join(current_dir, \"db\")\n",
    "    persistent_directory = os.path.join(db_dir, \"test_material\")\n",
    "    db = Chroma(\n",
    "        persist_directory=persistent_directory,\n",
    "        embedding_function=embeddings\n",
    "    )\n",
    "    retriever = db.as_retriever()\n",
    "    docs = retriever.invoke(query)\n",
    "\n",
    "    return {'documents': docs}\n",
    "\n",
    "def retrieve_docs_inmemory(state: StudyAgentState):\n",
    "    ''' Retriever for getting context and docs '''\n",
    "    print('--- InMemory Retriever ---')\n",
    "    query = state[\"messages\"][-1].content\n",
    "    documents = state.get('session_docs', [])\n",
    "\n",
    "    if len(documents) > 0:\n",
    "        embeddings = AzureOpenAIEmbeddings(model=os.getenv(\"AZURE_OPENAI_EMB_DEPLOYMENT_NAME\"))\n",
    "        retriever = DocArrayInMemorySearch.from_documents(documents, embeddings)\n",
    "\n",
    "        docs = retriever.similarity_search(query, k=3)\n",
    "\n",
    "        return {'documents': docs}"
   ]
  },
  {
   "cell_type": "markdown",
   "metadata": {},
   "source": [
    "# Document grader"
   ]
  },
  {
   "cell_type": "code",
   "execution_count": 244,
   "metadata": {},
   "outputs": [],
   "source": [
    "# First is the retrieval grader, which takes a documents content and evaluates whether it is useful or not\n",
    "# The grader is a simple chain, with a prompt and an llm\n",
    "# It is later used in a node, to go through retrieved documents\n",
    "from pydantic import BaseModel, Field\n",
    "from langchain_core.prompts import ChatPromptTemplate\n",
    "\n",
    "# Structured output class - Either useful or useless\n",
    "class DocumentGrade(BaseModel):\n",
    "    document_grade: str = Field(description=\"Grading of retrieved document, 'useful' or 'useless'\")\n",
    "\n",
    "# Prompt template for the llm to evaluate documents\n",
    "grader_instruction = \"\"\"\n",
    "You are tasked with determining whether a document is relevant to a student's inquiry.\n",
    "Evaluate the document based on its ability to directly address or provide useful information regarding the question or topic posed by the student.\n",
    "If the document is relevant and contains valuable information, respond with 'useful'.\n",
    "If the document is unrelated or does not contribute meaningfully to the inquiry, respond with 'useless'.\n",
    "Be objective and concise in your evaluation.\n",
    "\"\"\"\n",
    "grader_prompt = ChatPromptTemplate.from_messages(\n",
    "    [\n",
    "        (\"system\", grader_instruction),\n",
    "        (\"human\", \"Retrieved document: \\n\\n {document} \\n\\n User question: {question}\"),\n",
    "    ]\n",
    ")\n",
    "\n",
    "# LLM with class as output, string of either useful or useless\n",
    "grader_llm = llm.with_structured_output(DocumentGrade)\n",
    "\n",
    "# Grader chain\n",
    "doc_grader = grader_prompt | grader_llm\n",
    "\n",
    "def grade_docs(state: StudyAgentState):\n",
    "    ''' Grader to filter retrieved documents by relevance '''\n",
    "    print('--- Doc Grader ---')\n",
    "    question = state['messages'][-1].content\n",
    "    documents = state.get('documents', [])\n",
    "    filtered_docs = []\n",
    "    \n",
    "    if len(documents) > 0:\n",
    "        for doc in documents:\n",
    "            usefulness = doc_grader.invoke({'document': doc, 'question': question})\n",
    "            if usefulness.document_grade == 'useful':\n",
    "                filtered_docs.append(doc)\n",
    "            elif usefulness.document_grade == 'useless':\n",
    "                continue\n",
    "\n",
    "    return {'documents': filtered_docs}"
   ]
  },
  {
   "cell_type": "markdown",
   "metadata": {},
   "source": [
    "# Teacher"
   ]
  },
  {
   "cell_type": "code",
   "execution_count": 251,
   "metadata": {},
   "outputs": [],
   "source": [
    "# teacher_instructions = \"\"\"\n",
    "#     You are an experienced and patient teacher helping students learn \n",
    "#     by answering their questions. Your goal is to not only provide \n",
    "#     the correct answers but also to explain concepts clearly and thoroughly, \n",
    "#     breaking them down into smaller steps when necessary. Provide \n",
    "#     examples where appropriate, encourage critical thinking by asking \n",
    "#     follow-up questions, and make sure the student feels supported in \n",
    "#     their learning journey. Aim to foster a deeper understanding \n",
    "#     rather than just memorization. If the student seems confused, \n",
    "#     gently guide them through the problem with hints or re-explanations.\n",
    "\n",
    "    # You should take the following documents into consideration\n",
    "    # and cite them if used:\n",
    "    # {documents}\n",
    "#     \"\"\"\n",
    "\n",
    "teacher_instructions = ''' \n",
    "You are an experienced and patient teacher helping students learn by answering their questions. Your goal is to not \n",
    "only provide correct answers but also explain concepts clearly and thoroughly, breaking them down into smaller steps \n",
    "when necessary. Use the student's profile to personalize your responses. This is the students profile so far:\n",
    "    \n",
    "{student_profile}\n",
    "\n",
    "Before answering the student’s question, check their profile to see what information is already known, such as their \n",
    "name and summary. Use this information to tailor your response. If you notice key details like their name or learning \n",
    "goals are missing, answer their question first, then follow up with a polite inquiry to gather the missing information. \n",
    "Avoid asking for details already recorded.\n",
    "\n",
    "For example:\n",
    "    If the name is missing, you could ask: 'By the way, could you share your name so I can address you more personally \n",
    "    in the future?'\n",
    "    If the learning goals are unclear, ask: 'Could you tell me about your learning goals so I can assist you more \n",
    "    effectively?'\n",
    "\n",
    "Provide examples where appropriate, encourage critical thinking, and ensure the student feels supported. If they seem \n",
    "confused, guide them with hints or re-explanations, always fostering deeper understanding rather than memorization.\n",
    "'''\n",
    "\n",
    "def answering_teacher(state: StudyAgentState):\n",
    "    ''' Teacher node to answer student '''\n",
    "    print('--- Teacher ---')\n",
    "    messages = state['messages'] # Contains student question\n",
    "    student = state['student']\n",
    "    documents = state['documents']\n",
    "\n",
    "    sys_msg = teacher_instructions.format(student_profile = student.persona)\n",
    "\n",
    "    if len(documents) > 0:\n",
    "        context = f'''\n",
    "        You should take the following documents into consideration\n",
    "        and cite them if used:\n",
    "        {documents}\n",
    "        \n",
    "        You should cite them with a number, e.g. [1] and end with a \"Sources\" which contains the sources cited\n",
    "        '''\n",
    "        sys_msg += f'\\n {context}'\n",
    "\n",
    "    answer = llm.invoke([SystemMessage(content=sys_msg)] + messages) # Answers student question\n",
    "\n",
    "    return {'messages': answer} # Adds answer to messages"
   ]
  },
  {
   "cell_type": "markdown",
   "metadata": {},
   "source": [
    "# Edges"
   ]
  },
  {
   "cell_type": "code",
   "execution_count": 239,
   "metadata": {},
   "outputs": [],
   "source": [
    "from typing import Literal\n",
    "\n",
    "# Check student state\n",
    "def student_exist_route(state: StudyAgentState) -> Literal['load_student', 'extract_profiling_info']:\n",
    "    ''' Router to load user if profile not in state '''\n",
    "    print('--- Student exist route ---')\n",
    "    student = state.get('student', None)\n",
    "\n",
    "    # If the student doesn't exist, a node for loading or creating student is used\n",
    "    if student is None:\n",
    "        return 'load_student'\n",
    "    \n",
    "    return 'extract_profiling_info'"
   ]
  },
  {
   "cell_type": "code",
   "execution_count": 240,
   "metadata": {},
   "outputs": [],
   "source": [
    "def update_student_route(state: StudyAgentState):\n",
    "    ''' Route for deciding whether to update student profile or just answer questions '''\n",
    "    print('--- New student info route ---')\n",
    "    new_profiling_info = state.get('new_profiling_info', '')\n",
    "\n",
    "    if new_profiling_info:\n",
    "        print(new_profiling_info)\n",
    "        return 'update_profile'\n",
    "    else:\n",
    "        print('No new info')\n",
    "        return 'retriever'"
   ]
  },
  {
   "cell_type": "markdown",
   "metadata": {},
   "source": [
    "# Graph"
   ]
  },
  {
   "cell_type": "code",
   "execution_count": 241,
   "metadata": {},
   "outputs": [],
   "source": [
    "def status(state: StudyAgentState):\n",
    "    print('--- Status ---')\n",
    "    print(f'Student: {state['student']}')\n",
    "    print(f'Messages: \\n')\n",
    "    for message in state['messages']:\n",
    "        message.pretty_print()"
   ]
  },
  {
   "cell_type": "code",
   "execution_count": 252,
   "metadata": {},
   "outputs": [
    {
     "data": {
      "image/jpeg": "[encoded data removed]",
      "text/plain": [
       "<IPython.core.display.Image object>"
      ]
     },
     "metadata": {},
     "output_type": "display_data"
    }
   ],
   "source": [
    "from IPython.display import Image, display\n",
    "from langgraph.graph import StateGraph, START, END\n",
    "from langgraph.checkpoint.memory import MemorySaver\n",
    "\n",
    "studyagent_workflow = StateGraph(StudyAgentState)\n",
    "\n",
    "# Student profiling\n",
    "studyagent_workflow.add_node('load_student', load_student)\n",
    "studyagent_workflow.add_node('extract_profiling_info', extract_profiling_info)\n",
    "studyagent_workflow.add_node('update_profile', update_profile)\n",
    "\n",
    "# Retrieve documents\n",
    "studyagent_workflow.add_node('retriever', dummy_retriever)\n",
    "studyagent_workflow.add_node('chroma_retriever', retrieve_docs_chroma)\n",
    "studyagent_workflow.add_node('inmemory_retriever', retrieve_docs_inmemory)\n",
    "studyagent_workflow.add_node('grader', grade_docs)\n",
    "\n",
    "# Create answer\n",
    "studyagent_workflow.add_node('teacher', answering_teacher)\n",
    "studyagent_workflow.add_node('status', status)\n",
    "\n",
    "# Edges\n",
    "studyagent_workflow.add_conditional_edges(START, student_exist_route, ['load_student', 'extract_profiling_info'])\n",
    "studyagent_workflow.add_edge('load_student', 'extract_profiling_info')\n",
    "studyagent_workflow.add_conditional_edges('extract_profiling_info', update_student_route, ['update_profile', 'retriever'])\n",
    "\n",
    "studyagent_workflow.add_edge('update_profile', 'retriever')\n",
    "studyagent_workflow.add_edge('retriever', 'inmemory_retriever')\n",
    "studyagent_workflow.add_edge('retriever', 'chroma_retriever')\n",
    "studyagent_workflow.add_edge('inmemory_retriever', 'grader')\n",
    "studyagent_workflow.add_edge('chroma_retriever', 'grader')\n",
    "studyagent_workflow.add_edge('grader', 'teacher')\n",
    "studyagent_workflow.add_edge('teacher', 'status')\n",
    "studyagent_workflow.add_edge('status', END)\n",
    "\n",
    "memory = MemorySaver()\n",
    "studyagent_graph = studyagent_workflow.compile(checkpointer=persistent_memory)\n",
    "\n",
    "display(Image(studyagent_graph.get_graph().draw_mermaid_png()))"
   ]
  },
  {
   "cell_type": "markdown",
   "metadata": {},
   "source": [
    "# Test graph"
   ]
  },
  {
   "cell_type": "code",
   "execution_count": 253,
   "metadata": {},
   "outputs": [
    {
     "name": "stdout",
     "output_type": "stream",
     "text": [
      "--- Student exist route ---\n",
      "--- Loading Student ---\n",
      "--- Extract student info ---\n",
      "No further profiling data\n",
      "--- New student info route ---\n",
      "No new info\n",
      "--- Chroma Retriever ---\n",
      "--- InMemory Retriever ---\n",
      "--- Doc Grader ---\n",
      "--- Teacher ---\n",
      "--- Status ---\n",
      "Student: username='Allllaaan' name=None summary=None\n",
      "Messages: \n",
      "\n",
      "================================\u001b[1m Human Message \u001b[0m=================================\n",
      "\n",
      "What features are used for sound detection?\n",
      "==================================\u001b[1m Ai Message \u001b[0m==================================\n",
      "\n",
      "Sound detection involves analyzing various features of the sound. Two key characteristics used in sound detection are frequency and amplitude [1]. \n",
      "\n",
      "Frequency refers to the pitch of the sound, which is how high or low it sounds. It is determined by the speed of the sound wave's vibration. On the other hand, amplitude refers to the loudness or intensity of the sound, which is determined by the height of the sound wave.\n",
      "\n",
      "A tool called a spectrogram is often used to visualize these features in a sound [1]. It shows which frequencies are present in the sound at any given time, thus making it possible to identify when an event starts and stops, register what's happening in the event, or even assess the quality of the event. This can be particularly useful in fields such as healthcare, where the quality of a specific action or event can be evaluated based on the sound it produces [1].\n",
      "\n",
      "Sources:\n",
      "[1] Sound_detection_blog.pdf\n"
     ]
    }
   ],
   "source": [
    "username = 'Allllaaan'\n",
    "student_q = 'What features are used for sound detection?'\n",
    "config = {'configurable': {'thread_id': username}}\n",
    "ses_docs = []\n",
    "\n",
    "answer_state = studyagent_graph.invoke({'username': username, 'messages': [HumanMessage(content=student_q)], 'session_docs': ses_docs}, config)"
   ]
  },
  {
   "cell_type": "code",
   "execution_count": 254,
   "metadata": {},
   "outputs": [
    {
     "data": {
      "text/plain": [
       "{'messages': [HumanMessage(content='What features are used for sound detection?', additional_kwargs={}, response_metadata={}, id='1d5cded2-1142-4c6b-8260-ac7a1997eaca'),\n",
       "  AIMessage(content=\"Sound detection involves analyzing various features of the sound. Two key characteristics used in sound detection are frequency and amplitude [1]. \\n\\nFrequency refers to the pitch of the sound, which is how high or low it sounds. It is determined by the speed of the sound wave's vibration. On the other hand, amplitude refers to the loudness or intensity of the sound, which is determined by the height of the sound wave.\\n\\nA tool called a spectrogram is often used to visualize these features in a sound [1]. It shows which frequencies are present in the sound at any given time, thus making it possible to identify when an event starts and stops, register what's happening in the event, or even assess the quality of the event. This can be particularly useful in fields such as healthcare, where the quality of a specific action or event can be evaluated based on the sound it produces [1].\\n\\nSources:\\n[1] Sound_detection_blog.pdf\", additional_kwargs={}, response_metadata={'token_usage': {'completion_tokens': 188, 'prompt_tokens': 3327, 'total_tokens': 3515}, 'model_name': 'gpt-4', 'system_fingerprint': None, 'prompt_filter_results': [{'prompt_index': 0, 'content_filter_results': {}}], 'finish_reason': 'stop', 'logprobs': None, 'content_filter_results': {'hate': {'filtered': False, 'severity': 'safe'}, 'protected_material_code': {'filtered': False, 'detected': False}, 'protected_material_text': {'filtered': False, 'detected': False}, 'self_harm': {'filtered': False, 'severity': 'safe'}, 'sexual': {'filtered': False, 'severity': 'safe'}, 'violence': {'filtered': False, 'severity': 'safe'}}}, id='run-10070819-8f86-4369-8add-1036d1d5366e-0', usage_metadata={'input_tokens': 3327, 'output_tokens': 188, 'total_tokens': 3515})],\n",
       " 'username': 'Allllaaan',\n",
       " 'student': Student(username='Allllaaan', name=None, summary=None),\n",
       " 'session_docs': [],\n",
       " 'documents': [Document(metadata={'source': 'Sound_detection_blog.pdf'}, page_content='P ost \\ue088 Sound e v ent det ection / Sonohaler\\n5Nogle af de st or e l y dmodeller , som er fr it tilgængelige online, er mer e  \\nomf at t ende klassifikationsmodeller , trænet p å tusind vis af Y ou T ube videoer . De  \\ner i st and til at sk elne mellem mer e end 200 f orsk ellige e v ent s, her ibland t f olk  \\nder snakk er , biler der k ør er f or bi, pist olskud og andr e h v er dagshændelser .  \\nDisse modeller åbner også op f or vider e træning, p å dat a mer e specifik til dit  \\npr oblem.\\nA f r u n d i n g\\nL y d indeholder en masse inf or mation, der kan bruges til meget mer e end b ar e  \\nat spille musik og snakk e sammen. V ed at digit aliser e og anal yser e l y d kan vi  \\nopnå d y b indsigt indenf or bland t andet sundhed og miljø.\\nV ær kt øjer som spektr ogrammet har v ær et uund v ær lige de sener e år , men  \\nt eknologier som transf or mer e kan vise sig at b ane v ejen fr emad y der liger e. De'),\n",
       "  Document(metadata={'source': 'Sound_detection_blog.pdf'}, page_content='P ost \\ue088 Sound e v ent det ection / Sonohaler\\n1P o s t  -  S o u n d  e v e n t  d e t e c t i o n  /  \\nS o n o h a l e r\\nR e ader hook: H v or dan kan man bruge AI når man ar bejder med l y d?\\nBack gr ound: L y d k or t f or klar et \\ue09d L y d digit al t\\nP o s t\\nT L ; D R\\nL y d er vibrationer i luf t en, der la v es om til elektr isk e signaler . Ent en gennem  \\nør et op til hjer nen, eller gennem en mikr of on ind til en comput er . L y d har en  \\nrækk e karakt er istika, så som fr ekv ens og amplitude. Disse karakt er istika kan  \\nbruges til at finde mønstr e i l y den. Spektr ogrammer er en måde at visualiser e  \\nh vilk e fr ekv enser der er til st ede h v or når i en l y d. De kan bruges til at  \\nidentificer e h v or når et e v ent st ar t er og st opper , r egistr er e h v ad der f or egår i  \\ne v ent et eller til at vur der e kv alit et en af et e v ent. Eksempler p å use c ases findes  \\nb åde i sundhedssekt or en h v or man kan vur der e kv alit et en af en ø v else en'),\n",
       "  Document(metadata={'source': 'Sound_detection_blog.pdf'}, page_content='P ost \\ue088 Sound e v ent det ection / Sonohaler\\n2L y d best år af vibrationer i luf t en kaldet l y dbølger . L y dbølger ne opf anges af ør et,  \\nv ed at p å vir k e den membran i ør et der er k end t som tr ommehinden. Her fra  \\nf orst ær k es l y den gennem små knogler . Den f orst ær k ede l y d opf anges i en  \\nv æsk efy ld t struktur kaldet sneglen. Inde i sneglen er der en masse små  \\nfimr ehår der o v ersæt t er vibrationer ne til elektr isk e signaler i hjer nen, via  \\nhør ener v en. \\nNår vi vil ar bejde med l y d, skal l y den digit aliser es. Det t e sk er of t est gennem en  \\nmikr of on, h v or l y den bliv er la v et fra l y dbølger til elektr isk e signaler . På samme  \\nmåde som med mennesk et s ør e, er der en membran der bliv er p å vir k et af l y d.  \\nMembranens be v ægelse skubber en spole fr em og tilb age nær en magnet og  \\ndet t e danner elektr isk e signaler , der kan r epræsent er es af en comput er .'),\n",
       "  Document(metadata={'source': 'Sound_detection_blog.pdf'}, page_content='P ost \\ue088 Sound e v ent det ection / Sonohaler\\n4\\nF or kv alit et ssikr ing har vi skulle identificer e int ensit et en af et e v ent. Det t e har vi  \\nangr ebet som et r egr essionspr oblem. Her har vi igen brugt spektr ogrammer , da  \\nder of t e er en sammenhæng mellem int ensit et af e v ent et og fr ekv ensen i l y den.  \\nPå samme måde som med klassifikation, er dat a brud t ned i mindr e dele og  \\nla v et om til spektr ogrammer . Den st or e f orsk el her er at i st edet f or at giv e h v er  \\nbid label, så er det r igtige sv ar blot int ensit et en. Det kan v ær e al t fra 0 til 100 og  \\ndet er op til modellen at f orudse int ensit et en. R esul t at et er at l y den bliv er la v et  \\nom til int ensit et, der sener e kan bruges til anal yse int er nt i appen eller af en  \\npr of essionel der bruger appen. \\nL y d s  p o t e n t i a l e\\nMed Sonohaler har vi udf orsk et et lille område af h v ad l y d kan gør e f or os. Vi'),\n",
       "  Document(metadata={'source': 'Sound_detection_blog.pdf'}, page_content='P ost \\ue088 Sound e v ent det ection / Sonohaler\\n5Nogle af de st or e l y dmodeller , som er fr it tilgængelige online, er mer e  \\nomf at t ende klassifikationsmodeller , trænet p å tusind vis af Y ou T ube videoer . De  \\ner i st and til at sk elne mellem mer e end 200 f orsk ellige e v ent s, her ibland t f olk  \\nder snakk er , biler der k ør er f or bi, pist olskud og andr e h v er dagshændelser .  \\nDisse modeller åbner også op f or vider e træning, p å dat a mer e specifik til dit  \\npr oblem.\\nA f r u n d i n g\\nL y d indeholder en masse inf or mation, der kan bruges til meget mer e end b ar e  \\nat spille musik og snakk e sammen. V ed at digit aliser e og anal yser e l y d kan vi  \\nopnå d y b indsigt indenf or bland t andet sundhed og miljø.\\nV ær kt øjer som spektr ogrammet har v ær et uund v ær lige de sener e år , men  \\nt eknologier som transf or mer e kan vise sig at b ane v ejen fr emad y der liger e. De'),\n",
       "  Document(metadata={'source': 'Sound_detection_blog.pdf'}, page_content='P ost \\ue088 Sound e v ent det ection / Sonohaler\\n1P o s t  -  S o u n d  e v e n t  d e t e c t i o n  /  \\nS o n o h a l e r\\nR e ader hook: H v or dan kan man bruge AI når man ar bejder med l y d?\\nBack gr ound: L y d k or t f or klar et \\ue09d L y d digit al t\\nP o s t\\nT L ; D R\\nL y d er vibrationer i luf t en, der la v es om til elektr isk e signaler . Ent en gennem  \\nør et op til hjer nen, eller gennem en mikr of on ind til en comput er . L y d har en  \\nrækk e karakt er istika, så som fr ekv ens og amplitude. Disse karakt er istika kan  \\nbruges til at finde mønstr e i l y den. Spektr ogrammer er en måde at visualiser e  \\nh vilk e fr ekv enser der er til st ede h v or når i en l y d. De kan bruges til at  \\nidentificer e h v or når et e v ent st ar t er og st opper , r egistr er e h v ad der f or egår i  \\ne v ent et eller til at vur der e kv alit et en af et e v ent. Eksempler p å use c ases findes  \\nb åde i sundhedssekt or en h v or man kan vur der e kv alit et en af en ø v else en'),\n",
       "  Document(metadata={'source': 'Sound_detection_blog.pdf'}, page_content='P ost \\ue088 Sound e v ent det ection / Sonohaler\\n2L y d best år af vibrationer i luf t en kaldet l y dbølger . L y dbølger ne opf anges af ør et,  \\nv ed at p å vir k e den membran i ør et der er k end t som tr ommehinden. Her fra  \\nf orst ær k es l y den gennem små knogler . Den f orst ær k ede l y d opf anges i en  \\nv æsk efy ld t struktur kaldet sneglen. Inde i sneglen er der en masse små  \\nfimr ehår der o v ersæt t er vibrationer ne til elektr isk e signaler i hjer nen, via  \\nhør ener v en. \\nNår vi vil ar bejde med l y d, skal l y den digit aliser es. Det t e sk er of t est gennem en  \\nmikr of on, h v or l y den bliv er la v et fra l y dbølger til elektr isk e signaler . På samme  \\nmåde som med mennesk et s ør e, er der en membran der bliv er p å vir k et af l y d.  \\nMembranens be v ægelse skubber en spole fr em og tilb age nær en magnet og  \\ndet t e danner elektr isk e signaler , der kan r epræsent er es af en comput er .'),\n",
       "  Document(metadata={'source': 'Sound_detection_blog.pdf'}, page_content='P ost \\ue088 Sound e v ent det ection / Sonohaler\\n4\\nF or kv alit et ssikr ing har vi skulle identificer e int ensit et en af et e v ent. Det t e har vi  \\nangr ebet som et r egr essionspr oblem. Her har vi igen brugt spektr ogrammer , da  \\nder of t e er en sammenhæng mellem int ensit et af e v ent et og fr ekv ensen i l y den.  \\nPå samme måde som med klassifikation, er dat a brud t ned i mindr e dele og  \\nla v et om til spektr ogrammer . Den st or e f orsk el her er at i st edet f or at giv e h v er  \\nbid label, så er det r igtige sv ar blot int ensit et en. Det kan v ær e al t fra 0 til 100 og  \\ndet er op til modellen at f orudse int ensit et en. R esul t at et er at l y den bliv er la v et  \\nom til int ensit et, der sener e kan bruges til anal yse int er nt i appen eller af en  \\npr of essionel der bruger appen. \\nL y d s  p o t e n t i a l e\\nMed Sonohaler har vi udf orsk et et lille område af h v ad l y d kan gør e f or os. Vi')]}"
      ]
     },
     "execution_count": 254,
     "metadata": {},
     "output_type": "execute_result"
    }
   ],
   "source": [
    "answer_state"
   ]
  },
  {
   "cell_type": "code",
   "execution_count": 255,
   "metadata": {},
   "outputs": [
    {
     "name": "stdout",
     "output_type": "stream",
     "text": [
      "--- Student exist route ---\n",
      "--- Extract student info ---\n",
      "Updated new profiling info in state\n",
      "--- New student info route ---\n",
      "<student_profiling>Name: Kasper, Topic being studied: Applied Machine Learning, Specific subject: Deep Learning, Future target: Exam in 4 weeks</student_profiling>\n",
      "--- Updating student ---\n",
      "Student before: \n",
      " username='Allllaaan' name=None summary=None\n",
      "Updated student: \n",
      " username='Allllaaan' name='Kasper' summary='Kasper is a diligent student studying Applied Machine Learning, with a focus on Deep Learning. He is preparing for an exam in 4 weeks and is dedicated to achieving the best possible results.'\n",
      "--- Updating DB ---\n",
      "DB updated\n",
      "--- Chroma Retriever ---\n",
      "--- InMemory Retriever ---\n",
      "--- Doc Grader ---\n",
      "--- Teacher ---\n",
      "--- Status ---\n",
      "Student: username='Allllaaan' name='Kasper' summary='Kasper is a diligent student studying Applied Machine Learning, with a focus on Deep Learning. He is preparing for an exam in 4 weeks and is dedicated to achieving the best possible results.'\n",
      "Messages: \n",
      "\n",
      "================================\u001b[1m Human Message \u001b[0m=================================\n",
      "\n",
      "What features are used for sound detection?\n",
      "==================================\u001b[1m Ai Message \u001b[0m==================================\n",
      "\n",
      "Sound detection involves analyzing various features of the sound. Two key characteristics used in sound detection are frequency and amplitude [1]. \n",
      "\n",
      "Frequency refers to the pitch of the sound, which is how high or low it sounds. It is determined by the speed of the sound wave's vibration. On the other hand, amplitude refers to the loudness or intensity of the sound, which is determined by the height of the sound wave.\n",
      "\n",
      "A tool called a spectrogram is often used to visualize these features in a sound [1]. It shows which frequencies are present in the sound at any given time, thus making it possible to identify when an event starts and stops, register what's happening in the event, or even assess the quality of the event. This can be particularly useful in fields such as healthcare, where the quality of a specific action or event can be evaluated based on the sound it produces [1].\n",
      "\n",
      "Sources:\n",
      "[1] Sound_detection_blog.pdf\n",
      "================================\u001b[1m Human Message \u001b[0m=================================\n",
      "\n",
      "My name is Kasper and I study applied Machine learning. I have an exam on deep learning in 4 weeks. How can i study for it?\n",
      "==================================\u001b[1m Ai Message \u001b[0m==================================\n",
      "\n",
      "Hello Kasper, it's great to hear that you're dedicated to preparing for your upcoming exam. Here are some strategies that might help you study for your deep learning exam:\n",
      "\n",
      "1. **Review the basics**: Ensure you have a strong understanding of fundamental concepts such as neural networks, gradient descent, backpropagation, and activation functions. You might find it helpful to create summary notes or flashcards for these topics.\n",
      "\n",
      "2. **Understand different architectures**: Deep learning includes various models like Convolutional Neural Networks (CNNs), Recurrent Neural Networks (RNNs), Long Short Term Memory (LSTM), and transformers. Each of these has a unique structure and use-case. \n",
      "\n",
      "3. **Implement models**: Theoretical understanding is important, but implementing models will give you practical exposure. Use Python libraries like TensorFlow or PyTorch to build and train models on some datasets.\n",
      "\n",
      "4. **Solve problems**: Websites like Kaggle offer a lot of problems where deep learning models are used. Try to solve some of these problems to understand how these models are used in real-world scenarios.\n",
      "\n",
      "5. **Study consistently**: Since you have 4 weeks, it's important to study a little bit every day rather than cramming at the last minute. This aids long-term retention of information.\n",
      "\n",
      "6. **Use resources**: There are many online resources available for studying deep learning. Coursera, edX, and Udacity offer deep learning courses. Books like \"Deep Learning\" by Ian Goodfellow, Yoshua Bengio, and Aaron Courville are also quite comprehensive.\n",
      "\n",
      "7. **Practice exams**: If available, practice exams or problem sets from your course can be incredibly useful. They give you a feel for the kind of questions that might be asked and the level of detail you'll need to know.\n",
      "\n",
      "Remember, understanding the basics well is more important than knowing a little about a lot of topics. Good luck with your studies, Kasper! You're putting in the effort, and that's the most important part.\n"
     ]
    }
   ],
   "source": [
    "new_query = 'My name is Kasper and I study applied Machine learning. I have an exam on deep learning in 4 weeks. How can i study for it?'\n",
    "\n",
    "answer_state = studyagent_graph.invoke({'messages': [HumanMessage(content=new_query)]}, config)"
   ]
  }
 ],
 "metadata": {
  "kernelspec": {
   "display_name": ".venv",
   "language": "python",
   "name": "python3"
  },
  "language_info": {
   "codemirror_mode": {
    "name": "ipython",
    "version": 3
   },
   "file_extension": ".py",
   "mimetype": "text/x-python",
   "name": "python",
   "nbconvert_exporter": "python",
   "pygments_lexer": "ipython3",
   "version": "3.12.0"
  }
 },
 "nbformat": 4,
 "nbformat_minor": 2
}
