{
 "cells": [
  {
   "cell_type": "markdown",
   "metadata": {},
   "source": [
    "# Setup"
   ]
  },
  {
   "cell_type": "code",
   "execution_count": 22,
   "metadata": {},
   "outputs": [
    {
     "data": {
      "text/plain": [
       "True"
      ]
     },
     "execution_count": 22,
     "metadata": {},
     "output_type": "execute_result"
    }
   ],
   "source": [
    "from dotenv import load_dotenv\n",
    "load_dotenv()"
   ]
  },
  {
   "cell_type": "markdown",
   "metadata": {},
   "source": [
    "## LLM"
   ]
  },
  {
   "cell_type": "code",
   "execution_count": 23,
   "metadata": {},
   "outputs": [],
   "source": [
    "import os\n",
    "from langchain_openai import AzureChatOpenAI\n",
    "\n",
    "# TODO: Add Ollama alternative\n",
    "\n",
    "############### Init LLM ###############\n",
    "llm = AzureChatOpenAI(\n",
    "    api_key=os.getenv(\"AZURE_OPENAI_API_KEY\"),\n",
    "    azure_endpoint=os.getenv(\"AZURE_OPENAI_ENDPOINT\"),\n",
    "    azure_deployment=os.getenv(\"AZURE_OPENAI_DEPLOYMENT_NAME\"),\n",
    "    openai_api_version=os.getenv(\"AZURE_OPENAI_API_VERSION\"),\n",
    ")"
   ]
  },
  {
   "cell_type": "markdown",
   "metadata": {},
   "source": [
    "## DB"
   ]
  },
  {
   "cell_type": "code",
   "execution_count": 24,
   "metadata": {},
   "outputs": [],
   "source": [
    "import sqlite3\n",
    "db_path = \"db/students/students.db\"\n",
    "student_db = sqlite3.connect(db_path, check_same_thread=False)\n",
    "student_db_cursor = student_db.cursor()"
   ]
  },
  {
   "cell_type": "markdown",
   "metadata": {},
   "source": [
    "### Test DB"
   ]
  },
  {
   "cell_type": "code",
   "execution_count": 25,
   "metadata": {},
   "outputs": [
    {
     "data": {
      "text/plain": [
       "[(1,\n",
       "  'wondergirl',\n",
       "  'Alice',\n",
       "  'Alice is a quiet girl who wants to get better at math'),\n",
       " (2, 'builderboy', 'Bob', 'Bob has trouble remembering his dates in history')]"
      ]
     },
     "execution_count": 25,
     "metadata": {},
     "output_type": "execute_result"
    }
   ],
   "source": [
    "all = student_db_cursor.execute('SELECT * FROM students')\n",
    "all.fetchall()"
   ]
  },
  {
   "cell_type": "markdown",
   "metadata": {},
   "source": [
    "# State"
   ]
  },
  {
   "cell_type": "code",
   "execution_count": 26,
   "metadata": {},
   "outputs": [],
   "source": [
    "from typing import Optional\n",
    "from pydantic import BaseModel, Field\n",
    "from langgraph.graph import MessagesState\n",
    "\n",
    "class Student(BaseModel):\n",
    "    ''' Class for agent to fill out, which fits with SQL table '''\n",
    "    \n",
    "    username: str = Field(description='The username for the student, which is a unique identifier')\n",
    "    name: Optional[str] = Field(None, description='Name of student')\n",
    "    summary: Optional[str] = Field(None, description='A summary of the students profile, based on available fields')\n",
    "    @property\n",
    "    def persona(self) -> str:\n",
    "        return f\"Username:\\n {self.username}\\n Name:\\n {self.name}\\nSummary\\n {self.summary}\"\n",
    "\n",
    "# Graph state\n",
    "class StudyAgentState(MessagesState):\n",
    "    username: str\n",
    "    student: Optional[Student]\n",
    "    max_messages: int"
   ]
  },
  {
   "cell_type": "markdown",
   "metadata": {},
   "source": [
    "# Load Student"
   ]
  },
  {
   "cell_type": "code",
   "execution_count": 27,
   "metadata": {},
   "outputs": [],
   "source": [
    "def fetch_student_profile(username: str) -> Student:\n",
    "    ''' Retrieve student profile if existing '''\n",
    "    \n",
    "    # Connect to the SQLite database (adjust the path to your database file)\n",
    "    connection = sqlite3.connect(db_path)\n",
    "    cursor = connection.cursor()\n",
    "\n",
    "    # Execute the query to search for the student by username\n",
    "    cursor.execute('SELECT * FROM students WHERE username = ?', (username,))\n",
    "\n",
    "    # Fetch the result\n",
    "    student_data = cursor.fetchone()\n",
    "\n",
    "    # Close the connection\n",
    "    cursor.close()\n",
    "    connection.close()\n",
    "\n",
    "    # If a student is found, return a Student object, otherwise return None\n",
    "    if student_data:\n",
    "        _, username, name, summary = student_data\n",
    "        return Student(username=username, name=name, summary=summary)\n",
    "    else:\n",
    "        return Student(username=username)"
   ]
  },
  {
   "cell_type": "code",
   "execution_count": 28,
   "metadata": {},
   "outputs": [
    {
     "data": {
      "text/plain": [
       "Student(username='wondergirl', name='Alice', summary='Alice is a quiet girl who wants to get better at math')"
      ]
     },
     "execution_count": 28,
     "metadata": {},
     "output_type": "execute_result"
    }
   ],
   "source": [
    "none_ = fetch_student_profile('wondergirl')\n",
    "none_"
   ]
  },
  {
   "cell_type": "code",
   "execution_count": 29,
   "metadata": {},
   "outputs": [],
   "source": [
    "def load_user(state: StudyAgentState) -> StudyAgentState:\n",
    "    ''' Loading user from SQL based on username, if it exists '''\n",
    "    print('--- Loading Student ---')\n",
    "    username = state['username']\n",
    "    student = fetch_student_profile(username)\n",
    "    # print(f'Student: \\n {student}')\n",
    "    return {'student': student}"
   ]
  },
  {
   "cell_type": "markdown",
   "metadata": {},
   "source": [
    "# Agent"
   ]
  },
  {
   "cell_type": "code",
   "execution_count": 30,
   "metadata": {},
   "outputs": [],
   "source": [
    "from langchain_core.messages import SystemMessage\n",
    "\n",
    "agent_prompt = ''' \n",
    "You are a helpful and personalized study agent. Your goal is to assist students with their questions while also building a complete profile of their study habits and areas of focus to help them better. Follow these instructions carefully:\n",
    "\n",
    "1. **Profile Checking**:\n",
    "    - First, review the student's current profile. If the profile is missing key information (e.g., name or summary), ask the student to provide the missing details.\n",
    "    - Use any available context from the conversation to fill in or update fields like their name or summary.\n",
    "\n",
    "2. **Updating the Profile**:\n",
    "    - If new information is provided by the student during the conversation, tag this data within the response using the following format:\n",
    "      `<student_profiling>`[extracted information]</student_profiling>.\n",
    "    - This information should include the student's name, learning focus, or any other relevant details that are missing or need to be updated.\n",
    "\n",
    "3. **Answering Questions**:\n",
    "    - Once you have gathered sufficient information, proceed to answer the student's question.\n",
    "    - For general or factual questions (e.g., \"What is pi?\"), provide a concise, accurate answer. If the student's profile is incomplete, make sure to ask any necessary questions to fill in missing details after answering.\n",
    "\n",
    "4. **Profile Enrichment**:\n",
    "    - Use the context of the student's questions to enrich their profile. If they ask multiple questions related to a subject (e.g., math), update the summary to reflect this focus.\n",
    "    - Tag any newly extracted information about the student in your response with `<student_profiling>` tags.\n",
    "\n",
    "5. **Tone**:\n",
    "    - Be polite, friendly, and encouraging in your responses. Make the process of answering questions and gathering profile information smooth and non-intrusive.\n",
    "\n",
    "If you think there is any new and important information about the student in your correspondance, tag the relevant information\n",
    "`<student_profiling>[extracted information]</student_profiling>`.\n",
    "Only add this tag, if there is something important to add to the existing profile.\n",
    "Don't send the same information within the tag more than once\n",
    "Add the tag to the end of your message.\n",
    "Formulate the message, so it still makes sense when the student profiling tag is removed.\n",
    "'''\n",
    "\n",
    "def agent(state: StudyAgentState):\n",
    "    ''' Node for gathering basic info on the student '''\n",
    "    print('--- Agent ---')\n",
    "    student = state['student']\n",
    "    messages = state['messages']\n",
    "\n",
    "    sys_msg = agent_prompt\n",
    "    if student.summary is not None:\n",
    "        sys_msg += f'\\n\\nHere is a summary of what you know about the student so far:\\n{student.persona}'\n",
    "\n",
    "    answer = llm.invoke([SystemMessage(content=sys_msg)] + messages)\n",
    "    print(answer.content)\n",
    "    \n",
    "    return {'messages': answer}"
   ]
  },
  {
   "cell_type": "markdown",
   "metadata": {},
   "source": [
    "# Update student profile"
   ]
  },
  {
   "cell_type": "code",
   "execution_count": 31,
   "metadata": {},
   "outputs": [],
   "source": [
    "def update_db(student: Student) -> None:\n",
    "    ''' Update student profile if existing '''\n",
    "    print('--- Updating DB ---')\n",
    "    # Connect to the SQLite database (adjust the path to your database file)\n",
    "    connection = sqlite3.connect(db_path)\n",
    "    cursor = connection.cursor()\n",
    "\n",
    "    # Execute the query to upsert the student\n",
    "    cursor.execute(\n",
    "        '''\n",
    "        INSERT INTO students (username, name, summary)\n",
    "        VALUES (:username, :name, :summary)\n",
    "        ON CONFLICT(username) \n",
    "        DO UPDATE SET \n",
    "            name = excluded.name,\n",
    "            summary = excluded.summary;\n",
    "        ''', \n",
    "        {\n",
    "            'username': student.username,\n",
    "            'name': student.name,\n",
    "            'summary': student.summary\n",
    "        }\n",
    "    )\n",
    "\n",
    "    # Commit the transaction to save the changes\n",
    "    connection.commit()\n",
    "\n",
    "    # Close the connection\n",
    "    cursor.close()\n",
    "    connection.close()\n",
    "\n",
    "    print('DB updated')"
   ]
  },
  {
   "cell_type": "code",
   "execution_count": 32,
   "metadata": {},
   "outputs": [],
   "source": [
    "from langchain_core.messages import SystemMessage, HumanMessage, AIMessage, RemoveMessage\n",
    "\n",
    "update_student_prompt = ''' \n",
    "You are tasked with updating the profile of the following student. The student's current profile will be provided below. Review the profile and update any missing or incomplete fields, including the student's name and summary.\n",
    "\n",
    "- If the student's name is missing or incorrect, suggest an appropriate name or confirm the correct name if possible.\n",
    "- If the summary is incomplete, add relevant details to provide a more complete profile of the student's academic background or learning habits.\n",
    "- Do not modify the username, as it is a unique identifier.\n",
    "\n",
    "Here is the student's current profile:\n",
    "Username: {student_username}\n",
    "Name: {student_name}\n",
    "Summary: {student_summary}\n",
    "\n",
    "Here is what was extracted from the agent:\n",
    "{extracted_info}\n",
    "\n",
    "Please provide the updated profile with all relevant fields filled in. If a field is already complete, leave it unchanged.\n",
    "'''\n",
    "\n",
    "def update_student_profile(state: StudyAgentState):\n",
    "    \"\"\" Node for updating the student profile \"\"\"\n",
    "    print('--- Updating student ---')\n",
    "    student = state['student']\n",
    "    messages = state['messages']\n",
    "    last_message = messages[-1]\n",
    "\n",
    "    # Check if <student_profiling> tag exists in the last message content\n",
    "    if \"student_profiling>\" in last_message.content:\n",
    "        clean_message = last_message.content.split(\"<student_profiling>\")[0] + last_message.content.split(\"</student_profiling>\")[1].strip()\n",
    "    else:\n",
    "        clean_message = last_message.content\n",
    "\n",
    "    extracted_info = last_message.content.split(\"student_profiling>\")[1].split(\"</\")[0].strip()\n",
    "\n",
    "    formatted_prompt = update_student_prompt.format(\n",
    "        student_username=student.username,\n",
    "        student_name=student.name if student.name else \"Not Provided\",\n",
    "        student_summary=student.summary if student.summary else \"Not Provided\",\n",
    "        extracted_info=extracted_info\n",
    "    )\n",
    "\n",
    "    structured_llm = llm.with_structured_output(Student)\n",
    "    updated_student = structured_llm.invoke(\n",
    "        [SystemMessage(content=formatted_prompt)] + \n",
    "        [HumanMessage(content=f'Student to update: \\n {student.persona}')] +\n",
    "        messages\n",
    "    )\n",
    "\n",
    "    print(f'Student before: \\n {student}')\n",
    "    print(f'Updated student: \\n {updated_student}')\n",
    "    \n",
    "    update_done_msg = AIMessage(clean_message)\n",
    "    \n",
    "    update_db(updated_student)\n",
    "\n",
    "    print(f'Message: \\n {clean_message}')\n",
    "    print('--- END ---')\n",
    "    return {'student': updated_student, 'messages': [RemoveMessage(id=last_message.id)] + [update_done_msg]}"
   ]
  },
  {
   "cell_type": "markdown",
   "metadata": {},
   "source": [
    "# Routing"
   ]
  },
  {
   "cell_type": "code",
   "execution_count": 33,
   "metadata": {},
   "outputs": [],
   "source": [
    "from langgraph.graph import END\n",
    "from typing_extensions import Literal\n",
    "\n",
    "def profile_router(state: StudyAgentState) -> Literal[\"update_student_profile\", \"__end__\"]:\n",
    "    \"\"\"Determine whether to route to the update student node or end the conversation.\n",
    "\n",
    "    Args:\n",
    "        state (StudyAgentState): The current state of the conversation.\n",
    "\n",
    "    Returns:\n",
    "        Literal[\"update_student_profile\", \"__end__\"]: The next step in the graph.\n",
    "    \"\"\"\n",
    "    print('--- Routing ---')\n",
    "\n",
    "    messages = state['messages']\n",
    "    max_messages = state['max_messages']\n",
    "    last_message = messages[-1]\n",
    "    \n",
    "    if len(messages) > max_messages:\n",
    "        print('Correspondence too long, ending conversation')\n",
    "        return END\n",
    "    \n",
    "    if '<student_profiling>' in last_message.content:\n",
    "        print(f'student needs updating')\n",
    "        return \"update_student\"\n",
    "    \n",
    "    print('--- End ---')\n",
    "    return END"
   ]
  },
  {
   "cell_type": "markdown",
   "metadata": {},
   "source": [
    "# Graph"
   ]
  },
  {
   "cell_type": "code",
   "execution_count": 34,
   "metadata": {},
   "outputs": [
    {
     "data": {
      "image/jpeg": "[encoded data removed]",
      "text/plain": [
       "<IPython.core.display.Image object>"
      ]
     },
     "metadata": {},
     "output_type": "display_data"
    }
   ],
   "source": [
    "from IPython.display import Image, display\n",
    "from langgraph.graph import StateGraph, START\n",
    "from langgraph.checkpoint.memory import MemorySaver\n",
    "\n",
    "studyagent_workflow = StateGraph(StudyAgentState)\n",
    "\n",
    "studyagent_workflow.add_node('student_loader', load_user)\n",
    "studyagent_workflow.add_node('agent', agent)\n",
    "studyagent_workflow.add_node('update_student', update_student_profile)\n",
    "\n",
    "studyagent_workflow.add_edge(START, 'student_loader')\n",
    "studyagent_workflow.add_edge('student_loader', 'agent')\n",
    "studyagent_workflow.add_edge('update_student', END) #'agent'\n",
    "studyagent_workflow.add_conditional_edges('agent', profile_router, ['update_student', END])\n",
    "\n",
    "memory = MemorySaver()\n",
    "studyagent_graph = studyagent_workflow.compile(checkpointer=memory)\n",
    "\n",
    "display(Image(studyagent_graph.get_graph().draw_mermaid_png()))"
   ]
  },
  {
   "cell_type": "markdown",
   "metadata": {},
   "source": [
    "# Test"
   ]
  },
  {
   "cell_type": "code",
   "execution_count": 38,
   "metadata": {},
   "outputs": [
    {
     "name": "stdout",
     "output_type": "stream",
     "text": [
      "--- Loading Student ---\n",
      "--- Agent ---\n",
      "Hello Lasse, nice to meet you! Of course, I can help you prepare for your counting exam. Let's start by planning your study schedule.\n",
      "\n",
      "1. **Review the Basics**: Make sure you understand the basics of counting. Start from 1 and go as high as you can. Practice this daily.\n",
      "\n",
      "2. **Count Objects**: Practice counting objects around your house, like your toys or books. This will help you understand the concept better.\n",
      "\n",
      "3. **Count in Twos, Fives, and Tens**: Once you're comfortable with counting from 1 to 100, start practicing counting in twos, fives, and tens. This will help you count faster and more accurately.\n",
      "\n",
      "4. **Practice Worksheets**: If you have any worksheets from school, practice them. This will give you a good idea of what to expect in the exam.\n",
      "\n",
      "5. **Rest**: Remember to take breaks and get a good night's sleep before your exam. Your brain needs rest to perform at its best.\n",
      "\n",
      "Remember, practice makes perfect. So keep practicing and you'll do great on your exam!\n",
      "\n",
      "By the way, can you tell me what your favorite subjects at school are? `<student_profiling>Lasse is 8 years old and is preparing for a counting exam.</student_profiling>`\n",
      "--- Routing ---\n",
      "student needs updating\n",
      "--- Updating student ---\n",
      "Student before: \n",
      " username='Lasse' name=None summary=None\n",
      "Updated student: \n",
      " username='Lasse' name='Lasse' summary='Lasse is an 8-year-old student who is currently preparing for a counting exam. He is seeking assistance with his study planning.'\n",
      "--- Updating DB ---\n",
      "DB updated\n",
      "Message: \n",
      " Hello Lasse, nice to meet you! Of course, I can help you prepare for your counting exam. Let's start by planning your study schedule.\n",
      "\n",
      "1. **Review the Basics**: Make sure you understand the basics of counting. Start from 1 and go as high as you can. Practice this daily.\n",
      "\n",
      "2. **Count Objects**: Practice counting objects around your house, like your toys or books. This will help you understand the concept better.\n",
      "\n",
      "3. **Count in Twos, Fives, and Tens**: Once you're comfortable with counting from 1 to 100, start practicing counting in twos, fives, and tens. This will help you count faster and more accurately.\n",
      "\n",
      "4. **Practice Worksheets**: If you have any worksheets from school, practice them. This will give you a good idea of what to expect in the exam.\n",
      "\n",
      "5. **Rest**: Remember to take breaks and get a good night's sleep before your exam. Your brain needs rest to perform at its best.\n",
      "\n",
      "Remember, practice makes perfect. So keep practicing and you'll do great on your exam!\n",
      "\n",
      "By the way, can you tell me what your favorite subjects at school are? ``\n",
      "--- END ---\n",
      "username='Lasse' name='Lasse' summary='Lasse is an 8-year-old student who is currently preparing for a counting exam. He is seeking assistance with his study planning.'\n"
     ]
    }
   ],
   "source": [
    "from langchain_core.messages import HumanMessage\n",
    "\n",
    "config = {'configurable': {'thread_id': '13'}}\n",
    "username = 'Lasse'\n",
    "max_num_messages = 9\n",
    "question = 'Hi im lasse, im 8 years old. Can you help me plan for studying for my counting exam?'\n",
    "\n",
    "res = studyagent_graph.invoke({'messages': HumanMessage(content=question), 'username': username, 'max_messages': max_num_messages}, config)\n",
    "print(studyagent_graph.get_state(config).values['student'])"
   ]
  },
  {
   "cell_type": "code",
   "execution_count": 36,
   "metadata": {},
   "outputs": [
    {
     "name": "stdout",
     "output_type": "stream",
     "text": [
      "--- Loading Student ---\n",
      "--- Agent ---\n",
      "Hi Cevin, it's nice to meet you! I'm here to help you with any questions you might have about literature or any other subject. How may I assist you in your literature studies today? <student_profiling>Name: Cevin, Learning focus: Literature</student_profiling>\n",
      "--- Routing ---\n",
      "student needs updating\n",
      "--- Updating student ---\n",
      "Student before: \n",
      " username='Cevin' name=None summary=None\n",
      "Updated student: \n",
      " username='Cevin' name='Cevin' summary='Cevin is a student with a focus on Literature studies.'\n",
      "--- Updating DB ---\n",
      "DB updated\n",
      "Message: \n",
      " Hi Cevin, it's nice to meet you! I'm here to help you with any questions you might have about literature or any other subject. How may I assist you in your literature studies today? \n",
      "--- END ---\n"
     ]
    }
   ],
   "source": [
    "query = 'Yes, my name is Cevin and im studying literature'\n",
    "\n",
    "res = studyagent_graph.invoke({'messages': HumanMessage(content=query), 'username': username}, config)"
   ]
  },
  {
   "cell_type": "code",
   "execution_count": 37,
   "metadata": {},
   "outputs": [
    {
     "name": "stdout",
     "output_type": "stream",
     "text": [
      "--- Loading Student ---\n",
      "--- Agent ---\n",
      "There are several ways you can learn more about Pythagoras and his theorem:\n",
      "\n",
      "1. **Books and Textbooks**: There are plenty of books on Pythagoras and his theorem. You may already have a textbook for your course that covers his theorem in detail.\n",
      "\n",
      "2. **Online Resources**: Websites like Khan Academy and Coursera offer free lessons on Pythagorean theorem. You can also find lectures on YouTube.\n",
      "\n",
      "3. **Study Groups**: Joining study groups can be very helpful. You can discuss the topic and ask questions.\n",
      "\n",
      "4. **Tutoring**: You can also seek help from a tutor who can explain the theorem in a way that best suits your learning style.\n",
      "\n",
      "Remember, practice is the key when it comes to math. Solve as many problems as you can. This will not only help you understand the theorem better, but it will also help you prepare for your midterm.\n",
      "\n",
      "I notice that you're studying literature but are now delving into a math topic. Do you also have a keen interest in mathematics or is this for a general education requirement? <student_profiling>Cevin has a midterm on Pythagoras in 4 weeks.</student_profiling>\n",
      "--- Routing ---\n",
      "student needs updating\n",
      "--- Updating student ---\n",
      "Student before: \n",
      " username='Cevin' name='Cevin' summary='Cevin is a student with a focus on Literature studies.'\n",
      "Updated student: \n",
      " username='Cevin' name='Cevin' summary='Cevin is a student with a focus on Literature studies. He is currently preparing for a midterm exam on Pythagoras, indicating a study in mathematics as well.'\n",
      "--- Updating DB ---\n",
      "DB updated\n",
      "Message: \n",
      " There are several ways you can learn more about Pythagoras and his theorem:\n",
      "\n",
      "1. **Books and Textbooks**: There are plenty of books on Pythagoras and his theorem. You may already have a textbook for your course that covers his theorem in detail.\n",
      "\n",
      "2. **Online Resources**: Websites like Khan Academy and Coursera offer free lessons on Pythagorean theorem. You can also find lectures on YouTube.\n",
      "\n",
      "3. **Study Groups**: Joining study groups can be very helpful. You can discuss the topic and ask questions.\n",
      "\n",
      "4. **Tutoring**: You can also seek help from a tutor who can explain the theorem in a way that best suits your learning style.\n",
      "\n",
      "Remember, practice is the key when it comes to math. Solve as many problems as you can. This will not only help you understand the theorem better, but it will also help you prepare for your midterm.\n",
      "\n",
      "I notice that you're studying literature but are now delving into a math topic. Do you also have a keen interest in mathematics or is this for a general education requirement? \n",
      "--- END ---\n"
     ]
    }
   ],
   "source": [
    "query = 'How can i learn more about pythagoras? I got a midterm coming up in 4 weeks'\n",
    "\n",
    "res = studyagent_graph.invoke({'messages': HumanMessage(content=query), 'username': username}, config)"
   ]
  }
 ],
 "metadata": {
  "kernelspec": {
   "display_name": ".venv",
   "language": "python",
   "name": "python3"
  },
  "language_info": {
   "codemirror_mode": {
    "name": "ipython",
    "version": 3
   },
   "file_extension": ".py",
   "mimetype": "text/x-python",
   "name": "python",
   "nbconvert_exporter": "python",
   "pygments_lexer": "ipython3",
   "version": "3.12.0"
  }
 },
 "nbformat": 4,
 "nbformat_minor": 2
}
